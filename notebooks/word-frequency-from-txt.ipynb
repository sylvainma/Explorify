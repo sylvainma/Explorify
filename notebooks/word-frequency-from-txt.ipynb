{
 "cells": [
  {
   "cell_type": "code",
   "execution_count": 18,
   "metadata": {},
   "outputs": [
    {
     "name": "stdout",
     "output_type": "stream",
     "text": [
      "china 11330\n",
      "travel 1192\n",
      "\\ 16170\n",
      "square 8021\n",
      "city 1522\n",
      "shanghaishi\\ 1096\n",
      "cn 1088\n",
      "night 1073\n",
      "\\\\u4e0a\\\\u6d77 2008\n",
      "asia 1327\n",
      "architecture 1166\n",
      "uploaded:by=instagram 1116\n",
      "uploaded:by=instagram\\ 6819\n",
      "iphoneography 7946\n",
      "squareformat 7959\n",
      "street 1307\n",
      "instagramapp 7937\n",
      "chinese 1392\n",
      "shanghai\\ 1962\n",
      "shanghai 12940\n",
      "\\\\u4e2d\\\\u56fd 1087\n"
     ]
    }
   ],
   "source": [
    "file=open(\"../data/txt-tags-flickr.rtfd/TXT.rtf\",\"r+\")\n",
    "\n",
    "wordcount={}\n",
    "\n",
    "for word in file.read().split():\n",
    "    if word not in wordcount:\n",
    "        wordcount[word] = 1\n",
    "    else:\n",
    "        wordcount[word] += 1\n",
    "\n",
    "for k,v in wordcount.items():\n",
    "        print k, v\n",
    "        "
   ]
  },
  {
   "cell_type": "code",
   "execution_count": null,
   "metadata": {
    "collapsed": true
   },
   "outputs": [],
   "source": []
  }
 ],
 "metadata": {
  "kernelspec": {
   "display_name": "Python 2",
   "language": "python",
   "name": "python2"
  },
  "language_info": {
   "codemirror_mode": {
    "name": "ipython",
    "version": 2
   },
   "file_extension": ".py",
   "mimetype": "text/x-python",
   "name": "python",
   "nbconvert_exporter": "python",
   "pygments_lexer": "ipython2",
   "version": "2.7.13"
  }
 },
 "nbformat": 4,
 "nbformat_minor": 2
}
