{
 "cells": [
  {
   "cell_type": "code",
   "execution_count": 2,
   "metadata": {},
   "outputs": [],
   "source": [
    "import flickr_api\n",
    "from flickr_api import Walker, Photo"
   ]
  },
  {
   "cell_type": "code",
   "execution_count": 5,
   "metadata": {},
   "outputs": [],
   "source": [
    "flickr_api.set_keys(api_key='513d3e54193facc8fd9b9b725fe7a2bb', api_secret='3f1455b9e5527dfc')"
   ]
  },
  {
   "cell_type": "code",
   "execution_count": 44,
   "metadata": {},
   "outputs": [
    {
     "name": "stdout",
     "output_type": "stream",
     "text": [
      "513\n"
     ]
    },
    {
     "data": {
      "text/plain": [
       "Photo(id=b'48464456992', title=b'Award Atlanta Ga')"
      ]
     },
     "execution_count": 44,
     "metadata": {},
     "output_type": "execute_result"
    }
   ],
   "source": [
    "# Paris\n",
    "city = (48.8566, 2.3522)\n",
    "radius_km = 20\n",
    "#Todo: bbox = \n",
    "\n",
    "# Atlanta \n",
    "city = (33.7490, 84.3880)\n",
    "\n",
    "# https://www.flickr.com/services/api/explore/flickr.photos.search\n",
    "w = Walker(Photo.search, \n",
    "           accuracy=11,\n",
    "           privacy_filter=1,\n",
    "           content_type=1,\n",
    "           media=\"photos\",\n",
    "           has_geo=1,\n",
    "           lat=city[0],\n",
    "           lon=city[1],\n",
    "           radius=radius_km)\n",
    "\n",
    "# Iterating through the results\n",
    "# for photo in w:\n",
    "#     print(photo)\n",
    "#     break\n",
    "\n",
    "# Number of photos matching the search query\n",
    "print(len(w))\n",
    "\n",
    "# Get first result\n",
    "photo = next(w)\n",
    "photo"
   ]
  },
  {
   "cell_type": "code",
   "execution_count": 34,
   "metadata": {},
   "outputs": [
    {
     "data": {
      "text/plain": [
       "'https://live.staticflickr.com/65535/49576096948_f97394b59b_c.jpg'"
      ]
     },
     "execution_count": 34,
     "metadata": {},
     "output_type": "execute_result"
    }
   ],
   "source": [
    "# Getting url of a photo\n",
    "# https://github.com/alexis-mignon/python-flickr-api/blob/master/flickr_api/objects.py#L1333\n",
    "\"\"\"\n",
    "size_label: The label corresponding to the photo size\n",
    "    'Square': 75x75\n",
    "    'Thumbnail': 100 on longest side\n",
    "    'Small': 240 on  longest side\n",
    "    'Medium': 500 on longest side\n",
    "    'Medium 640': 640 on longest side\n",
    "    'Large': 1024 on longest side\n",
    "    'Original': original photo (not always available)\n",
    "\"\"\"\n",
    "photo_url = photo.getPhotoFile(size_label=\"Medium 800\")\n",
    "photo_url"
   ]
  },
  {
   "cell_type": "code",
   "execution_count": 38,
   "metadata": {},
   "outputs": [],
   "source": [
    "# Save a photo \"test\" in current folder\n",
    "# https://github.com/alexis-mignon/python-flickr-api/blob/master/flickr_api/objects.py#L1325\n",
    "photo.save(\"test\", size_label=\"Medium 800\")"
   ]
  },
  {
   "cell_type": "code",
   "execution_count": 40,
   "metadata": {},
   "outputs": [
    {
     "data": {
      "text/plain": [
       "{'id': '49576096948',\n",
       " 'secret': 'f97394b59b',\n",
       " 'server': '65535',\n",
       " 'farm': 66,\n",
       " 'dateuploaded': '1582502894',\n",
       " 'isfavorite': 0,\n",
       " 'license': '0',\n",
       " 'safety_level': '0',\n",
       " 'rotation': 0,\n",
       " 'originalsecret': 'e73ebb4626',\n",
       " 'originalformat': 'jpg',\n",
       " 'owner': Person(id=b'187006828@N05', username=b'sysysnatch'),\n",
       " 'title': 'IMG_3247',\n",
       " 'description': '',\n",
       " 'views': '0',\n",
       " 'editability': {'cancomment': 0, 'canaddmeta': 0},\n",
       " 'comments': '0',\n",
       " 'notes': [],\n",
       " 'people': {'haspeople': 0},\n",
       " 'tags': [Tag(id=b'187001488-49576096..., text=b'paris'),\n",
       "  Tag(id=b'187001488-49576096..., text=b'eiffeltower')],\n",
       " 'location': {'latitude': '48.846544',\n",
       "  'longitude': '2.285413',\n",
       "  'accuracy': '16',\n",
       "  'context': '0',\n",
       "  'locality': 'Paris',\n",
       "  'county': 'Paris',\n",
       "  'region': 'Île-de-France',\n",
       "  'country': 'France',\n",
       "  'neighbourhood': 'Grenelle'},\n",
       " 'geoperms': {'ispublic': 1, 'iscontact': 0, 'isfriend': 0, 'isfamily': 0},\n",
       " 'urls': {'url': [{'type': 'photopage',\n",
       "    'text': 'https://www.flickr.com/photos/187006828@N05/49576096948/'}]},\n",
       " 'media': 'photo',\n",
       " 'candownload': 1,\n",
       " 'canblog': 0,\n",
       " 'canprint': 0,\n",
       " 'canshare': 1,\n",
       " 'ispublic': 1,\n",
       " 'isfriend': 0,\n",
       " 'isfamily': 0,\n",
       " 'cancomment': 1,\n",
       " 'canaddmeta': 0,\n",
       " 'posted': '1582502894',\n",
       " 'taken': '2019-10-30 20:31:45',\n",
       " 'takengranularity': '0',\n",
       " 'takenunknown': '0',\n",
       " 'lastupdate': '1582502980'}"
      ]
     },
     "execution_count": 40,
     "metadata": {},
     "output_type": "execute_result"
    }
   ],
   "source": [
    "# Metadata\n",
    "photo.getInfo()"
   ]
  },
  {
   "cell_type": "code",
   "execution_count": null,
   "metadata": {},
   "outputs": [],
   "source": []
  }
 ],
 "metadata": {
  "kernelspec": {
   "display_name": "Python 3",
   "language": "python",
   "name": "python3"
  },
  "language_info": {
   "codemirror_mode": {
    "name": "ipython",
    "version": 3
   },
   "file_extension": ".py",
   "mimetype": "text/x-python",
   "name": "python",
   "nbconvert_exporter": "python",
   "pygments_lexer": "ipython3",
   "version": "3.7.4"
  }
 },
 "nbformat": 4,
 "nbformat_minor": 2
}
